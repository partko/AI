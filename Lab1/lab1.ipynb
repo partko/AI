{
 "cells": [
  {
   "cell_type": "markdown",
   "metadata": {},
   "source": [
    "# Лаб 1. Корреляционная система\n",
    "\n",
    "При создании задания использовались Visual Studio Code и Python 3.8."
   ]
  },
  {
   "cell_type": "markdown",
   "metadata": {},
   "source": [
    "## Теория\n",
    "\n",
    "Данные для рекомендательных систем представляют из себя матрицу $R$ юзер-айтемов, в строках которой находятся пользователи, а в столбцах объекты. В ячейках матрицы находятся оценки пользователей (или какая-то другая метрика $-$ просмотры, покупки и т.д.):\n",
    "\n",
    "$$\n",
    "R = \\begin{pmatrix}\n",
    "   r_{1 1} & r_{1 2} & ...     &    \\\\\n",
    "   r_{2 1} & r_{2 1} & ...     &     \\\\\n",
    "   ...     & ...     & r_{u i} & ... \\\\\n",
    "           &         & ...     &     \\\\\n",
    "\\end{pmatrix}\n",
    "$$\n",
    "\n",
    "Матрица $R$ сильно разрежена, то есть большая часть ячеек пуста, поскольку каждый пользователь взаимодействовал с очень малым числом объектов. Задача $-$ предсказать значения в пустых ячейках, то есть получить новую заполненную матрицу $\\hat R$, максимально похожую на $R$."
   ]
  },
  {
   "cell_type": "markdown",
   "metadata": {},
   "source": [
    "### Обозначения\n",
    "\n",
    "- $U - $ множество пользователей;\n",
    "- $I - $ множество айтемов (объектов);\n",
    "- $I(u)$, где $u \\in U -$ множество айтемов, которое оценил пользователь $u$. То есть такие айтемы, для которых в строке $u$ матрицы $R$ не пусто. Аналогично $I(u, v) -$ множество объектов, которые оценили и $u$ и $v$;\n",
    "- $U(u)$, где $u \\in U -$ Множество пользователей, оценивали то же что и $u$, то есть $I(u) \\cap I(v) \\ne \\empty$, где $v \\in U(u)$;\n",
    "- $r_u$, где $u \\in U -$ строка матрицы $R$, соответствующая пользователю $u$;\n",
    "- $r_i$, где $i \\in I -$ столбец матрицы $R$, соответствующий айтему $i$;\n",
    "- $\\bar r_u$, где $u \\in U -$ среднее значение по всем заполненным оценкам пользователя $u$."
   ]
  },
  {
   "cell_type": "markdown",
   "metadata": {},
   "source": [
    "\n",
    "### Корреляционная модель\n",
    "\n",
    "Один из самых простых способов $-$ использовать взвешенное среднее. То есть, чтобы определить оценку пользователя $u$ айтема $i$, надо усреднить оценки всех пользователей, посмотревших этот фильм (user-based подход). При этом будем учитывать оценку пользователя с большим коэффициентом если пользователь \"похож\" на нашего:\n",
    "\n",
    "$$\n",
    "\\hat{r}_{ui} = \\frac{\n",
    "        \\sum_{v \\in U(u)} S(u, v)\\cdot r_v\n",
    "    } {\n",
    "        \\sum_{v \\in U(u)} S(u, v)\n",
    "    }\n",
    "$$\n",
    "\n",
    "Здесь $S$ это функция близости, которая тем больше, чем более \"похожи\" пользователи друг на друга.\n",
    "\n",
    "Поскольку оценки разных пользователей могут отличаться $-$ кто-то ставит всем фильмам 9 и 10, а кто-то 0 и 1, можно попытаться устранить проблему, предсказывая не само значение $r_u$, а отклонение от среднего значения $(r_u - \\bar{r}_u)$:\n",
    "\n",
    "$$\n",
    "\\hat{r}_{ui} = \\bar{r}_{u} + \\frac{\n",
    "        \\sum_{v \\in U(u)} S(u, v) \\cdot (r_v - \\bar r_v)\n",
    "    } {\n",
    "        \\sum_{v \\in U(u)} S(u, v)\n",
    "    }\n",
    "$$\n",
    "\n",
    "Аналогично определяется item-based модель, только усреднение оценок происходит не по пользователям, оценившим этот объект, а по объектам, которые оценил данный пользователь. Теперь $S$ будет функцией близости двух айтемов:\n",
    "\n",
    "$$\n",
    "\\hat{r}_{ui} = \\bar{r}_{i} + \\frac{\n",
    "        \\sum_{j \\in I(i)} S(i, j) \\cdot (r_i - \\bar r_i)\n",
    "    } {\n",
    "        \\sum_{j \\in I(i)} S(i, j)\n",
    "    }\n",
    "$$"
   ]
  },
  {
   "cell_type": "markdown",
   "metadata": {},
   "source": [
    "\n",
    "### Функция сходства\n",
    "\n",
    "Будем рассматривать функцию сходства двух юзером для user-based модели, функции сходства для айтемов определяется аналогично.\n",
    "\n",
    "#### Косинусная мера сходства\n",
    "\n",
    "Считаем косинус угла между пользователями в пространстве определяющих их векторов. То есть берём скалярное произведение и делим на длины векторов. Единственное, на что следует обратит внимание, что берутся не все оценки пользователей, а только для тех айтемов, которые они оба оценили:\n",
    "\n",
    "$$\n",
    "S(u, v) = \\frac{\n",
    "        \\sum_{i \\in I(u, v)} r_{ui}r_{vi}\n",
    "    }{\n",
    "        \\sqrt{\\sum_{i \\in I(u)} r_{ui}^2}\n",
    "        \\sqrt{\\sum_{i \\in I(v)} r_{vi}^2}\n",
    "    }\n",
    "$$\n",
    "\n",
    "#### Корреляция Пирсона\n",
    "\n",
    "\"Коэффициент корреляции Пирсона - это ковариация двух переменных, делённая на произведение их стандартных отклонений.\"\n",
    "\n",
    "По смыслу примерно то же что предыдущая, но теперь мы опять учитываем не сами значения, а отклонения от среднего:\n",
    "\n",
    "$$\n",
    "S(u, v) = \\frac{\n",
    "        \\sum_{i \\in I(u, v)} (r_{ui} - \\bar r_u) (r_{vi} - \\bar r_v)\n",
    "    }{\n",
    "        \\sqrt{\\sum_{i \\in I(u, v)} (r_{ui} - \\bar r_u)^2}\n",
    "        \\sqrt{\\sum_{i \\in I(u, v)} (r_{vi} - \\bar r_v)^2}\n",
    "    }\n",
    "$$\n",
    "\n",
    "### Функция сходства для бинарных данных\n",
    "\n",
    "А некоторых задачах взаимодействие пользователя с предметом либо есть, либо нет, например, факт покупки чего-то в интернет магазине. Для таких задач существуют отдельные методы.\n",
    "\n",
    "![Диаграмма пересечения классов](./images/IU.png)\n",
    "\n",
    "Пусть $|I(u)| = p$, а $|I(v)| = q$, то есть количество объектов, оцененных $u$ равно $p$, а количество объектов, оцененных $v$ равно $q$. А размер пересечения $|I(u) \\cap I(v)| = |I(u, v)| = m$\n",
    "\n",
    "#### Мера близости Жаккара\n",
    "\n",
    "Очевидно:\n",
    "\n",
    "$$\n",
    "S(u, v) = \\frac{\n",
    "        |I(u) \\cap I(v)|\n",
    "    }{\n",
    "        |I(u) \\cup I(v)|\n",
    "    }\n",
    "$$\n",
    "\n",
    "#### Точный тест Фишера\n",
    "\n",
    "Если предположить что у пользователей $u$ и $v$ оценки генерируются независимо друг от друга, то можно посчитать вероятность того, что размер пересечения будет именно таким, каким он получился $P \\{ |I(u) \\cap I(v)| = m \\}$. Чем меньше эта вероятность, тем больше схожесть пользователей между собой:\n",
    "\n",
    "$$\n",
    "S(u, v)\n",
    "    = -\\log P \\{ |I(u) \\cap I(v)| = m \\}\n",
    "    = -\\log \\frac{C_{q}^m C_{|I| - q}^{p-m}}{C_{|I|}^{p}}\n",
    "$$\n"
   ]
  },
  {
   "cell_type": "markdown",
   "metadata": {},
   "source": [
    "## Задание\n",
    "\n",
    "Дан датасет с оценками пользователями фильмов. Реализуйте алгоритм в соответствии с вашим вариантом и порекомендуйте себе фильмы. Сделайте выводы.\n",
    "\n",
    "В датасете фильмы оценены по пятибальной шкале. Если в вашем варианте используется функция сходства для бинарных данных, используйте факт просмотра фильма (наличие оценки вообще).\n",
    "\n",
    "### Варианты\n",
    "\n",
    "1. User-based подход, Косинусная мера сходства.\n",
    "2. User-based подход, Корреляция Пирсона.\n",
    "3. User-based подход, Мера близости Жаккара.\n",
    "4. Item-based подход, Косинусная мера сходства.\n",
    "5. Item-based подход, Корреляция Пирсона\n",
    "6. Item-based подход, Мера близости Жаккара.\n"
   ]
  },
  {
   "cell_type": "markdown",
   "metadata": {},
   "source": [
    "## Код"
   ]
  },
  {
   "cell_type": "markdown",
   "metadata": {},
   "source": [
    "Устанавливаем библиотеки"
   ]
  },
  {
   "cell_type": "code",
   "execution_count": 1,
   "metadata": {},
   "outputs": [
    {
     "name": "stdout",
     "output_type": "stream",
     "text": [
      "Requirement already satisfied: pandas in c:\\users\\gribo\\appdata\\local\\programs\\python\\python39\\lib\\site-packages (1.4.2)\n",
      "Requirement already satisfied: tqdm in c:\\users\\gribo\\appdata\\local\\programs\\python\\python39\\lib\\site-packages (4.64.1)\n",
      "Requirement already satisfied: pytz>=2020.1 in c:\\users\\gribo\\appdata\\local\\programs\\python\\python39\\lib\\site-packages (from pandas) (2022.1)\n",
      "Requirement already satisfied: python-dateutil>=2.8.1 in c:\\users\\gribo\\appdata\\local\\programs\\python\\python39\\lib\\site-packages (from pandas) (2.8.2)\n",
      "Requirement already satisfied: numpy>=1.18.5 in c:\\users\\gribo\\appdata\\local\\programs\\python\\python39\\lib\\site-packages (from pandas) (1.23.3)\n",
      "Requirement already satisfied: colorama in c:\\users\\gribo\\appdata\\local\\programs\\python\\python39\\lib\\site-packages (from tqdm) (0.4.5)\n",
      "Requirement already satisfied: six>=1.5 in c:\\users\\gribo\\appdata\\local\\programs\\python\\python39\\lib\\site-packages (from python-dateutil>=2.8.1->pandas) (1.16.0)\n",
      "Note: you may need to restart the kernel to use updated packages.\n"
     ]
    },
    {
     "name": "stderr",
     "output_type": "stream",
     "text": [
      "\n",
      "[notice] A new release of pip available: 22.3.1 -> 23.2.1\n",
      "[notice] To update, run: python.exe -m pip install --upgrade pip\n"
     ]
    }
   ],
   "source": [
    "%pip install pandas tqdm"
   ]
  },
  {
   "cell_type": "markdown",
   "metadata": {},
   "source": [
    "Импорты"
   ]
  },
  {
   "cell_type": "code",
   "execution_count": 2,
   "metadata": {},
   "outputs": [],
   "source": [
    "# Пандас нам нужен для загрузки csv и работы с матрицей\n",
    "import pandas as pd\n",
    "# Это библиотека для визуализации прогресса в питоновском ноутбуке\n",
    "from tqdm.notebook import tqdm\n",
    "\n",
    "import math\n",
    "import time\n",
    "import numpy as np"
   ]
  },
  {
   "cell_type": "markdown",
   "metadata": {},
   "source": [
    "Загружаем датасет"
   ]
  },
  {
   "cell_type": "code",
   "execution_count": 3,
   "metadata": {},
   "outputs": [],
   "source": [
    "# Сам датасет\n",
    "ratings = pd.read_csv('./ml-latest-small/ratings.csv', delimiter=',')\n",
    "# Оставляем в таблице только нужные столбцы\n",
    "ratings = ratings.loc[:, [\"userId\", \"movieId\", \"rating\"]]\n",
    "\n",
    "# Строка в таблице в датасета это id пользователя, id фильма, рейтинг\n",
    "# На id пользователей нам плевать, а фильмы хочется смотреть по названиям,\n",
    "# поэтому загружаем табличку сопоставления названий фильмов их id\n",
    "movies = pd.read_csv('./ml-latest-small/movies.csv', delimiter=',')"
   ]
  },
  {
   "cell_type": "code",
   "execution_count": 4,
   "metadata": {},
   "outputs": [
    {
     "name": "stdout",
     "output_type": "stream",
     "text": [
      "                                      movieId\n",
      "title                                        \n",
      "Iron Man (2008)                         59315\n",
      "Doctor Who: A Christmas Carol (2010)   147376\n",
      "                                        title\n",
      "movieId                                      \n",
      "59315                         Iron Man (2008)\n",
      "147376   Doctor Who: A Christmas Carol (2010)\n"
     ]
    }
   ],
   "source": [
    "# Делаем таблицу для преобразования имени в id\n",
    "title_to_id = movies.loc[:, [\"title\", \"movieId\"]]\n",
    "title_to_id.set_index(\"title\", inplace=True)\n",
    "\n",
    "# Делаем таблицу для преобразования id в имя\n",
    "id_to_title = movies.loc[:, [\"movieId\", \"title\"]]\n",
    "id_to_title.set_index(\"movieId\", inplace=True)\n",
    "\n",
    "# Проверяем что всё работает\n",
    "print(title_to_id.loc[[\"Iron Man (2008)\", \"Doctor Who: A Christmas Carol (2010)\"], :])\n",
    "print(id_to_title.loc[[59315, 147376], :])\n"
   ]
  },
  {
   "cell_type": "code",
   "execution_count": 5,
   "metadata": {},
   "outputs": [],
   "source": [
    "# Мы хотим получить для себя какую-то рекомендацию,\n",
    "# для этого оценим несколько фильмов по пятибальной шкале\n",
    "# (аккуратно копипастим имена из датасета)\n",
    "my_ratings = {\n",
    "    \"Shining, The (1980)\": 4.0,\n",
    "    \"Harley Davidson and the Marlboro Man (1991)\": 4.0,\n",
    "    \"Fight Club (1999)\": 4.0,\n",
    "    \"Cube (1997)\": 4.0,\n",
    "    \"Titanic (1997)\": 5.0,\n",
    "    \"Troy (2004)\": 5.0,\n",
    "    \"Aviator, The (2004)\": 5.0,\n",
    "    \"Requiem for a Dream (2000)\": 5.0,\n",
    "    \"Green Mile, The (1999)\": 5.0,\n",
    "    \"Star Wars: Episode VII - The Force Awakens (2015)\": 3.0,\n",
    "    \"Star Wars: The Last Jedi (2017)\": 2.0,\n",
    "    \"Last Airbender, The (2010)\": 2.0,\n",
    "    \"Mission: Impossible II (2000)\": 2.0,\n",
    "\n",
    "}\n",
    "\n",
    "# Даём нашему юзеру id, которого нет в датасете\n",
    "my_user_id = 666\n",
    "\n",
    "# Докидываем свои оценки в датасет\n",
    "for m, r in my_ratings.items():\n",
    "    mid = title_to_id.loc[m][\"movieId\"]\n",
    "    row = pd.DataFrame([[my_user_id, mid, r]], columns=[\"userId\", \"movieId\", \"rating\"])\n",
    "    ratings = pd.concat([ratings, row])"
   ]
  },
  {
   "cell_type": "code",
   "execution_count": 6,
   "metadata": {},
   "outputs": [],
   "source": [
    "# Тут реализуем функцию предсказания.\n",
    "# Или класс. Главное - предсказать.\n",
    "\n",
    "def cosine_similarity(u, v):\n",
    "    dot_product = np.dot(u, v)\n",
    "    norm_u = np.linalg.norm(u) #np.sqrt(u.dot(u))\n",
    "    norm_v = np.linalg.norm(v) #np.sqrt(v.dot(v))\n",
    "    return dot_product / (norm_u * norm_v)\n",
    "\n",
    "def calculate_cosine_similarity(my_id):\n",
    "    cosine_similarity_array = {}\n",
    "    all_users_ids = []\n",
    "    for index, row in ratings.iterrows():\n",
    "        if (row['userId'] not in all_users_ids):\n",
    "            all_users_ids.append(row['userId'])\n",
    "    all_users_ids.remove(my_id)\n",
    "    for el in all_users_ids:\n",
    "        vec_u = np.array([])\n",
    "        vec_v = np.array([])\n",
    "        for index, row in ratings.loc[(ratings['userId'] == my_id)].iterrows():\n",
    "            if (not ratings.loc[(ratings['userId'] == el)&(ratings['movieId'] == row['movieId'])].empty):\n",
    "                vec_u = np.append(vec_u, ratings.loc[(ratings['userId'] == my_id)&(ratings['movieId'] == row['movieId'])].at[0, 'rating'])\n",
    "                vec_v = np.append(vec_v, ratings.loc[(ratings['userId'] == el)&(ratings['movieId'] == row['movieId'])].reset_index(drop=True).at[0, 'rating'])\n",
    "                similarity = cosine_similarity(vec_u, vec_v)\n",
    "                if (len(vec_u) > 1):\n",
    "                    cosine_similarity_array[el] = similarity\n",
    "                else:\n",
    "                    cosine_similarity_array[el] = 0.0\n",
    "                #print(\"cosine_similarity: \", cosine_similarity_array[el])\n",
    "        if (el not in cosine_similarity_array):\n",
    "            cosine_similarity_array[el] = 0.0\n",
    "            #print(\"cosine_similarity: \", cosine_similarity_array[el])\n",
    "            \n",
    "    return cosine_similarity_array\n",
    "    \n",
    "def predict(user_id, movie_id):\n",
    "    pred = 0      \n",
    "    if (ratings.loc[ratings['userId'] == user_id][\"movieId\"].isin([movie_id]).any()):\n",
    "        pred = ratings.loc[(ratings['userId'] == user_id)&(ratings['movieId'] == movie_id)]['rating'].reset_index(drop=True)[0]\n",
    "    else:\n",
    "        numerator = 0\n",
    "        denominator = 0\n",
    "        for index, row in ratings.loc[(ratings['movieId'] == movie_id)].iterrows():\n",
    "            numerator += cosine_similarity_array[row['userId']] * (row['rating'] - ratings.loc[ratings['userId'] == row['userId']][\"rating\"].mean())\n",
    "            denominator += cosine_similarity_array[row['userId']]\n",
    "            #print(numerator, denominator)\n",
    "        if (denominator != 0):\n",
    "            pred = ratings.loc[ratings['userId'] == my_user_id][\"rating\"].mean() + numerator / denominator\n",
    "            #pred = ratings.loc[(ratings['movieId'] == movie_id)][\"rating\"].mean() + numerator / denominator\n",
    "        else:\n",
    "            pred = 0\n",
    "    return pred\n",
    "\n",
    "cosine_similarity_array = calculate_cosine_similarity(my_user_id)"
   ]
  },
  {
   "cell_type": "markdown",
   "metadata": {},
   "source": [
    "Даём предсказание для каждого фильма"
   ]
  },
  {
   "cell_type": "code",
   "execution_count": 7,
   "metadata": {},
   "outputs": [
    {
     "data": {
      "application/vnd.jupyter.widget-view+json": {
       "model_id": "6c42b820c73e40d49d9f132a66acb69b",
       "version_major": 2,
       "version_minor": 0
      },
      "text/plain": [
       "  0%|          | 0/9724 [00:00<?, ?it/s]"
      ]
     },
     "metadata": {},
     "output_type": "display_data"
    }
   ],
   "source": [
    "#result = {}\n",
    "#for m in tqdm(np.unique(ratings[\"movieId\"])):\n",
    "#    result[m] = predict(my_user_id, m)\n",
    "#result = {k: v for k, v in result.items()}\n",
    "\n",
    "result = {}\n",
    "for m in tqdm(np.unique(ratings[\"movieId\"])):\n",
    "    # убираем фильмы которые уже оценены:\n",
    "    if (m in ratings.loc[(ratings['userId'] == my_user_id)][\"movieId\"].tolist()):\n",
    "        continue\n",
    "    # отсекаем фильмы у которых мало оценок:\n",
    "    if (ratings.loc[(ratings['movieId'] == m)]['userId'].size > 20):\n",
    "        result[m] = predict(my_user_id, m)\n",
    "    else:\n",
    "        result[m] = 0 #predict(my_user_id, m) - 5 / ratings.loc[(ratings['movieId'] == m)]['userId'].size\n",
    "result = {k: v for k, v in result.items()}"
   ]
  },
  {
   "cell_type": "markdown",
   "metadata": {},
   "source": [
    "Выводим результат"
   ]
  },
  {
   "cell_type": "code",
   "execution_count": 8,
   "metadata": {},
   "outputs": [
    {
     "name": "stdout",
     "output_type": "stream",
     "text": [
      "Wallace & Gromit: The Best of Aardman Animation (1996) :  4.887974029356768\n",
      "Lawrence of Arabia (1962) :  4.658531721491893\n",
      "Roman Holiday (1953) :  4.623106571620098\n",
      "Shawshank Redemption, The (1994) :  4.617206593301284\n",
      "Duck Soup (1933) :  4.61449584424617\n",
      "Patton (1970) :  4.599235189019494\n",
      "Sunset Blvd. (a.k.a. Sunset Boulevard) (1950) :  4.596427937675051\n",
      "Good, the Bad and the Ugly, The (Buono, il brutto, il cattivo, Il) (1966) :  4.580203879466552\n",
      "Grand Day Out with Wallace and Gromit, A (1989) :  4.578963940457579\n",
      "Producers, The (1968) :  4.576366182007521\n",
      "Pulp Fiction (1994) :  4.570350096196454\n",
      "Seven Samurai (Shichinin no samurai) (1954) :  4.560410700070496\n",
      "My Fair Lady (1964) :  4.550591378175257\n",
      "Heavenly Creatures (1994) :  4.544145606768649\n",
      "Godfather, The (1972) :  4.536972302787729\n",
      "Monty Python and the Holy Grail (1975) :  4.525845762296791\n",
      "Dr. Strangelove or: How I Learned to Stop Worrying and Love the Bomb (1964) :  4.525831190094447\n",
      "Boondock Saints, The (2000) :  4.520689329536936\n",
      "Manhattan (1979) :  4.51865745234759\n",
      "Ghost in the Shell (Kôkaku kidôtai) (1995) :  4.51665851472061\n",
      "Singin' in the Rain (1952) :  4.510915992077875\n",
      "Midnight Cowboy (1969) :  4.50239658601249\n",
      "Dazed and Confused (1993) :  4.499809676275488\n",
      "Monty Python's And Now for Something Completely Different (1971) :  4.489544178862781\n",
      "In the Name of the Father (1993) :  4.487713268640397\n",
      "Little Big Man (1970) :  4.486446427028312\n",
      "Evil Dead II (Dead by Dawn) (1987) :  4.481333468556673\n",
      "Princess Bride, The (1987) :  4.479437387311289\n",
      "Rosemary's Baby (1968) :  4.477191951678414\n",
      "Star Wars: Episode V - The Empire Strikes Back (1980) :  4.472853044430592\n",
      "Raging Bull (1980) :  4.471828193933856\n",
      "Brazil (1985) :  4.470532302591822\n",
      "Life Is Beautiful (La Vita è bella) (1997) :  4.470397400063526\n",
      "Usual Suspects, The (1995) :  4.468070311735498\n",
      "Army of Darkness (1993) :  4.46615733776806\n",
      "Memento (2000) :  4.46221546790484\n",
      "Spirited Away (Sen to Chihiro no kamikakushi) (2001) :  4.46149496005571\n",
      "Star Wars: Episode IV - A New Hope (1977) :  4.459847013605257\n",
      "Boot, Das (Boat, The) (1981) :  4.4591546332360394\n",
      "Wallace & Gromit: The Wrong Trousers (1993) :  4.459060508390449\n",
      "There Will Be Blood (2007) :  4.458830726456737\n",
      "Casablanca (1942) :  4.458826926842815\n",
      "Philadelphia Story, The (1940) :  4.4571360848911645\n",
      "Maltese Falcon, The (1941) :  4.45687171434109\n",
      "Harold and Maude (1971) :  4.447020115573529\n",
      "Apocalypse Now (1979) :  4.443120538292759\n",
      "In Bruges (2008) :  4.442878992472483\n",
      "Young Frankenstein (1974) :  4.441372153199793\n",
      "Doctor Zhivago (1965) :  4.4402379488980825\n",
      "Godfather: Part II, The (1974) :  4.439828255525836\n",
      "On the Waterfront (1954) :  4.43679486582943\n",
      "Amadeus (1984) :  4.431693205110879\n",
      "Goodfellas (1990) :  4.430681467897869\n",
      "Cool Hand Luke (1967) :  4.424669094150109\n",
      "Great Escape, The (1963) :  4.421980739687045\n",
      "Captain Phillips (2013) :  4.42032793244007\n",
      "Do the Right Thing (1989) :  4.416954621181032\n",
      "Platoon (1986) :  4.416833729215951\n",
      "Rear Window (1954) :  4.415790139491066\n",
      "Nausicaä of the Valley of the Wind (Kaze no tani no Naushika) (1984) :  4.413382210524906\n",
      "Eternal Sunshine of the Spotless Mind (2004) :  4.410413643368314\n",
      "Pianist, The (2002) :  4.4073417670636434\n",
      "Glory (1989) :  4.405677828254779\n",
      "Logan (2017) :  4.405095658766675\n",
      "Psycho (1960) :  4.404414895901144\n",
      "Full Metal Jacket (1987) :  4.402932181748198\n",
      "Lives of Others, The (Das leben der Anderen) (2006) :  4.402564251712965\n",
      "Amelie (Fabuleux destin d'Amélie Poulain, Le) (2001) :  4.399066104452482\n",
      "Apartment, The (1960) :  4.398855300356892\n",
      "12 Angry Men (1957) :  4.396363399040292\n",
      "Reservoir Dogs (1992) :  4.396342651903797\n",
      "City of God (Cidade de Deus) (2002) :  4.3936446016069235\n",
      "M*A*S*H (a.k.a. MASH) (1970) :  4.392536144093637\n",
      "American History X (1998) :  4.391400559733801\n",
      "Moonrise Kingdom (2012) :  4.390117150008193\n",
      "Unforgiven (1992) :  4.389565588864865\n",
      "One Flew Over the Cuckoo's Nest (1975) :  4.389448090877082\n",
      "Vertigo (1958) :  4.387689149749704\n",
      "Silence of the Lambs, The (1991) :  4.3870378785516975\n",
      "Network (1976) :  4.383346435691346\n",
      "Kiss Kiss Bang Bang (2005) :  4.383177903338577\n",
      "Fistful of Dollars, A (Per un pugno di dollari) (1964) :  4.383050432419202\n",
      "Big Trouble in Little China (1986) :  4.382592321447134\n",
      "Road Warrior, The (Mad Max 2) (1981) :  4.382262777934831\n",
      "Monty Python's Life of Brian (1979) :  4.380177092542146\n",
      "Chinatown (1974) :  4.378732272167013\n",
      "Departed, The (2006) :  4.378569943114527\n",
      "Office Space (1999) :  4.377600909508055\n",
      "Toy Story 3 (2010) :  4.3739604316995155\n",
      "Dark Knight, The (2008) :  4.373769302881213\n",
      "Third Man, The (1949) :  4.37262380852059\n",
      "Matrix, The (1999) :  4.370922718978696\n",
      "Bound (1996) :  4.369222073082246\n",
      "Some Like It Hot (1959) :  4.369114320686353\n",
      "Forrest Gump (1994) :  4.365135826863224\n",
      "Citizen Kane (1941) :  4.363659035460735\n",
      "L.A. Confidential (1997) :  4.362896873491738\n",
      "This Is Spinal Tap (1984) :  4.3627106105126385\n",
      "Lost in Translation (2003) :  4.359449659286\n",
      "Thank You for Smoking (2006) :  4.357932556063875\n"
     ]
    }
   ],
   "source": [
    "# Преобразуем id фильмов в нормальные названия\n",
    "human_readable_result = {}\n",
    "for m, v in result.items():\n",
    "    title = id_to_title.loc[m][\"title\"]\n",
    "    human_readable_result[title] = v\n",
    "\n",
    "# Сортируем массив с результатами по убыванию\n",
    "sorted_result = {k: v for k, v in sorted(human_readable_result.items(), key=lambda item: item[1], reverse=True) if v != 0.0}\n",
    "\n",
    "# Выводим первые 100 рекомендаций\n",
    "for m, v in list(sorted_result.items())[:100]:\n",
    "    print(m, \": \", v) #print(m, \": \", v * 5 / sorted_result[list(sorted_result.keys())[0]])\n"
   ]
  },
  {
   "cell_type": "markdown",
   "metadata": {},
   "source": [
    "## Выводы\n",
    "\n",
    "Объясните полученный результат:"
   ]
  },
  {
   "cell_type": "markdown",
   "metadata": {},
   "source": [
    "Результат не очень высокого качества, вперед пролезают фильмы с малым количеством оценок, как минимум их стоит отсеивать.\n",
    "Для достижения лучшего результата стоит учитывать другие факторы, например любимые жанры, отсеивать пользователей с которыми\n",
    "имеется мало совпадений в просмотренных фильмах при расчете и тд."
   ]
  }
 ],
 "metadata": {
  "kernelspec": {
   "display_name": "Python 3 (ipykernel)",
   "language": "python",
   "name": "python3"
  },
  "language_info": {
   "codemirror_mode": {
    "name": "ipython",
    "version": 3
   },
   "file_extension": ".py",
   "mimetype": "text/x-python",
   "name": "python",
   "nbconvert_exporter": "python",
   "pygments_lexer": "ipython3",
   "version": "3.9.7"
  }
 },
 "nbformat": 4,
 "nbformat_minor": 2
}
